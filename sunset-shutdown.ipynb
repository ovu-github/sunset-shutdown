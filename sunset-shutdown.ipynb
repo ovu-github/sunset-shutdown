{
 "cells": [
  {
   "cell_type": "code",
   "execution_count": null,
   "metadata": {},
   "outputs": [],
   "source": [
    "from bs4 import BeautifulSoup\n",
    "import os\n",
    "import time\n",
    "import requests\n",
    "import pandas as pd"
   ]
  },
  {
   "cell_type": "code",
   "execution_count": null,
   "metadata": {},
   "outputs": [],
   "source": [
    "country = input('Which country are you in? ').lower()\n",
    "city = input('Which city are you in? ').lower()"
   ]
  },
  {
   "cell_type": "code",
   "execution_count": null,
   "metadata": {},
   "outputs": [],
   "source": [
    "page = requests.get('https://www.timeanddate.com/sun/' + country + '/' + city)\n",
    "\n",
    "soup = BeautifulSoup(page.text, 'html.parser')\n",
    "\n",
    "sunset = soup.find_all('p', class_ = 'dn-mob')[0].text.split()[2][:5]"
   ]
  },
  {
   "cell_type": "code",
   "execution_count": null,
   "metadata": {},
   "outputs": [],
   "source": [
    "sunset_datetime = pd.to_datetime(sunset)\n",
    "sunset_datetime"
   ]
  },
  {
   "cell_type": "code",
   "execution_count": null,
   "metadata": {},
   "outputs": [],
   "source": [
    "starttime=time.time()\n",
    "while True:\n",
    "    now = pd.to_datetime('today')\n",
    "    print(f\"now is :[{now}], sunset is: [{sunset_datetime}]\")\n",
    "    if now > sunset_datetime:\n",
    "        try:\n",
    "            os.system('systemctl poweroff') \n",
    "            os.system(\"shutdown /s /t 1\")\n",
    "    time.sleep(60.0 - ((time.time() - starttime) % 60.0))"
   ]
  }
 ],
 "metadata": {
  "kernelspec": {
   "display_name": "Python 3",
   "language": "python",
   "name": "python3"
  },
  "language_info": {
   "codemirror_mode": {
    "name": "ipython",
    "version": 3
   },
   "file_extension": ".py",
   "mimetype": "text/x-python",
   "name": "python",
   "nbconvert_exporter": "python",
   "pygments_lexer": "ipython3",
   "version": "3.8.10"
  }
 },
 "nbformat": 4,
 "nbformat_minor": 2
}
